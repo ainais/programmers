{
 "cells": [
  {
   "cell_type": "markdown",
   "metadata": {},
   "source": [
    "자연수 n 개로 이루어진 중복 집합(multi set, 편의상 이후에는 \"집합\"으로 통칭) 중에 다음 두 조건을 만족하는 집합을 최고의 집합이라고 합니다.\n",
    "\n",
    "1. 각 원소의 합이 S가 되는 수의 집합\n",
    "2. 위 조건을 만족하면서 각 원소의 곱 이 최대가 되는 집합\n",
    "예를 들어서 자연수 2개로 이루어진 집합 중 합이 9가 되는 집합은 다음과 같이 4개가 있습니다.</br>\n",
    "{ 1, 8 }, { 2, 7 }, { 3, 6 }, { 4, 5 }</br>\n",
    "그중 각 원소의 곱이 최대인 { 4, 5 }가 최고의 집합입니다.\n",
    "\n",
    "집합의 원소의 개수 n과 모든 원소들의 합 s가 매개변수로 주어질 때, 최고의 집합을 return 하는 solution 함수를 완성해주세요."
   ]
  },
  {
   "cell_type": "code",
   "execution_count": 36,
   "metadata": {},
   "outputs": [
    {
     "data": {
      "text/plain": [
       "[4, 5, 5]"
      ]
     },
     "execution_count": 36,
     "metadata": {},
     "output_type": "execute_result"
    }
   ],
   "source": [
    "def solution(n, s):\n",
    "    if(n > s): return [-1]\n",
    "    answer = []\n",
    "    start = s // n\n",
    "    \n",
    "    for i in range(n):\n",
    "        answer.append(start)\n",
    "        \n",
    "    idx = len(answer) - 1\n",
    "    for r in range(s%n):\n",
    "        answer[idx] += 1\n",
    "        idx -= 1\n",
    "    return answer    \n",
    "\n",
    "solution(3,14)"
   ]
  },
  {
   "cell_type": "code",
   "execution_count": null,
   "metadata": {},
   "outputs": [],
   "source": []
  }
 ],
 "metadata": {
  "kernelspec": {
   "display_name": "Python 3.9.12 ('base')",
   "language": "python",
   "name": "python3"
  },
  "language_info": {
   "codemirror_mode": {
    "name": "ipython",
    "version": 3
   },
   "file_extension": ".py",
   "mimetype": "text/x-python",
   "name": "python",
   "nbconvert_exporter": "python",
   "pygments_lexer": "ipython3",
   "version": "3.9.12"
  },
  "orig_nbformat": 4,
  "vscode": {
   "interpreter": {
    "hash": "0315a581e2c4f19e67eb1d991ec2370f080c1c9f3361ed831101b80f3cef2f30"
   }
  }
 },
 "nbformat": 4,
 "nbformat_minor": 2
}
