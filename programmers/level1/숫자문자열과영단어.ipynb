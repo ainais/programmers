{
 "cells": [
  {
   "cell_type": "markdown",
   "metadata": {},
   "source": [
    "네오와 프로도가 숫자놀이를 하고 있습니다.<br>\n",
    "네오가 프로도에게 숫자를 건넬 때 일부 자릿수를 영단어로 바꾼 카드를 건네주면 프로도는 원래 숫자를 찾는 게임입니다.<br>\n",
    "다음은 숫자의 일부 자릿수를 영단어로 바꾸는 예시입니다.<br>\n",
    "<br>\n",
    "1478 → \"one4seveneight\"<br>\n",
    "234567 → \"23four5six7\"<br>\n",
    "10203 → \"1zerotwozero3\"<br>\n",
    "이렇게 숫자의 일부 자릿수가 영단어로 바뀌어졌거나, 혹은 바뀌지 않고 그대로인 문자열 s가 매개변수로 주어집니다.<br>\n",
    "s가 의미하는 원래 숫자를 return 하도록 solution 함수를 완성해주세요.<br>\n",
    "<br>\n",
    "참고로 각 숫자에 대응되는 영단어는 다음 표와 같습니다.<br>\n",
    "숫자/영단어<br>\n",
    "0/zero<br>\n",
    "1/one<br>\n",
    "2/two<br>\n",
    "3/three<br>\n",
    "4/four<br>\n",
    "5/five<br>\n",
    "6/six<br>\n",
    "7/seven<br>\n",
    "8/eight<br>\n",
    "9/nine<br>"
   ]
  },
  {
   "cell_type": "code",
   "execution_count": 5,
   "metadata": {},
   "outputs": [
    {
     "name": "stdout",
     "output_type": "stream",
     "text": [
      "1478\n"
     ]
    },
    {
     "data": {
      "text/plain": [
       "1478"
      ]
     },
     "execution_count": 5,
     "metadata": {},
     "output_type": "execute_result"
    }
   ],
   "source": [
    "def solution(s):\n",
    "    s=s.replace(\"zero\",\"0\").replace(\"one\",\"1\").replace(\"two\",\"2\").replace(\"three\",\"3\").replace(\"four\",\"4\").replace(\"five\",\"5\")\n",
    "    s=s.replace(\"six\",\"6\").replace(\"seven\",\"7\").replace(\"eight\",\"8\").replace(\"nine\",\"9\")\n",
    "    return int(s)\n",
    "\n",
    "solution(\"one4seveneight\")"
   ]
  }
 ],
 "metadata": {
  "kernelspec": {
   "display_name": "Python 3.9.12 ('base')",
   "language": "python",
   "name": "python3"
  },
  "language_info": {
   "codemirror_mode": {
    "name": "ipython",
    "version": 3
   },
   "file_extension": ".py",
   "mimetype": "text/x-python",
   "name": "python",
   "nbconvert_exporter": "python",
   "pygments_lexer": "ipython3",
   "version": "3.9.12"
  },
  "orig_nbformat": 4,
  "vscode": {
   "interpreter": {
    "hash": "0315a581e2c4f19e67eb1d991ec2370f080c1c9f3361ed831101b80f3cef2f30"
   }
  }
 },
 "nbformat": 4,
 "nbformat_minor": 2
}
