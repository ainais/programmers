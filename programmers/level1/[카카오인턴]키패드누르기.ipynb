{
 "cells": [
  {
   "cell_type": "markdown",
   "metadata": {},
   "source": [
    "스마트폰 전화 키패드의 각 칸에 다음과 같이 숫자들이 적혀 있습니다.<br>\n",
    "이 전화 키패드에서 왼손과 오른손의 엄지손가락만을 이용해서 숫자만을 입력하려고 합니다.<br>\n",
    "맨 처음 왼손 엄지손가락은 * 키패드에 오른손 엄지손가락은 # 키패드 위치에서 시작하며, 엄지손가락을 사용하는 규칙은 다음과 같습니다.<br>\n",
    "<br>\n",
    "1.엄지손가락은 상하좌우 4가지 방향으로만 이동할 수 있으며 키패드 이동 한 칸은 거리로 1에 해당합니다.<br>\n",
    "2.왼쪽 열의 3개의 숫자 1, 4, 7을 입력할 때는 왼손 엄지손가락을 사용합니다.<br>\n",
    "3.오른쪽 열의 3개의 숫자 3, 6, 9를 입력할 때는 오른손 엄지손가락을 사용합니다.<br>\n",
    "4.가운데 열의 4개의 숫자 2, 5, 8, 0을 입력할 때는 두 엄지손가락의 현재 키패드의 위치에서 더 가까운 엄지손가락을 사용합니다.<br>\n",
    "&nbsp;&nbsp;&nbsp;&nbsp;4-1. 만약 두 엄지손가락의 거리가 같다면, 오른손잡이는 오른손 엄지손가락, 왼손잡이는 왼손 엄지손가락을 사용합니다.<br><br>\n",
    "순서대로 누를 번호가 담긴 배열 numbers, 왼손잡이인지 오른손잡이인 지를 나타내는 문자열 hand가 매개변수로 주어질 때, 각 번호를 누른 엄지손가락이 왼손인 지 오른손인 지를 나타내는 연속된 문자열 형태로 return 하도록 solution 함수를 완성해주세요."
   ]
  },
  {
   "cell_type": "code",
   "execution_count": 30,
   "metadata": {},
   "outputs": [
    {
     "data": {
      "text/plain": [
       "'LRLLRRLLLRR'"
      ]
     },
     "execution_count": 30,
     "metadata": {},
     "output_type": "execute_result"
    }
   ],
   "source": [
    "def distance(num1,num2):\n",
    "    d = abs(num1[0]-num2[0])+abs(num1[1]-num2[1])\n",
    "    return d\n",
    "\n",
    "def solution(numbers, hand):\n",
    "    answer = ''\n",
    "    key_pad = {'*':(1,1),'0':(2,1),'#':(3,1),'1':(1,4),'2':(2,4),'3':(3,4),'4':(1,3),'5':(2,3),'6':(3,3),'7':(1,2),'8':(2,2),'9':(3,2)}\n",
    "    \n",
    "    left_cur=key_pad['*']\n",
    "    right_cur=key_pad['#']\n",
    "    for i in numbers:\n",
    "        if(i==1 or i==4 or i==7):\n",
    "            answer+=\"L\"\n",
    "            left_cur=key_pad['{}'.format(i)]\n",
    "        elif(i==3 or i==6 or i==9):\n",
    "            answer+=\"R\"\n",
    "            right_cur=key_pad['{}'.format(i)]\n",
    "        else:\n",
    "            cur=key_pad['{}'.format(i)]\n",
    "            if(distance(right_cur,cur)>distance(left_cur,cur)): \n",
    "                answer+='L'\n",
    "                left_cur=key_pad['{}'.format(i)]\n",
    "            elif(distance(right_cur,cur)<distance(left_cur,cur)): \n",
    "                answer+='R'\n",
    "                right_cur=key_pad['{}'.format(i)]\n",
    "            else:\n",
    "                if(hand==\"right\"): \n",
    "                    answer+='R'\n",
    "                    right_cur=key_pad['{}'.format(i)]\n",
    "                elif(hand==\"left\"): \n",
    "                    answer+='L'\n",
    "                    left_cur=key_pad['{}'.format(i)]\n",
    "    return answer\n",
    "\n",
    "solution(\t[7, 0, 8, 2, 8, 3, 1, 5, 7, 6, 2],\"left\") "
   ]
  }
 ],
 "metadata": {
  "kernelspec": {
   "display_name": "Python 3.9.12 ('base')",
   "language": "python",
   "name": "python3"
  },
  "language_info": {
   "codemirror_mode": {
    "name": "ipython",
    "version": 3
   },
   "file_extension": ".py",
   "mimetype": "text/x-python",
   "name": "python",
   "nbconvert_exporter": "python",
   "pygments_lexer": "ipython3",
   "version": "3.9.12"
  },
  "orig_nbformat": 4,
  "vscode": {
   "interpreter": {
    "hash": "0315a581e2c4f19e67eb1d991ec2370f080c1c9f3361ed831101b80f3cef2f30"
   }
  }
 },
 "nbformat": 4,
 "nbformat_minor": 2
}
