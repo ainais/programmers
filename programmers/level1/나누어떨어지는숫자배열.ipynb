{
 "cells": [
  {
   "cell_type": "markdown",
   "metadata": {},
   "source": [
    "array의 각 element 중 divisor로 나누어 떨어지는 값을 오름차순으로 정렬한 배열을 반환하는 함수, solution을 작성해주세요.<br>\n",
    "divisor로 나누어 떨어지는 element가 하나도 없다면 배열에 -1을 담아 반환하세요."
   ]
  },
  {
   "cell_type": "code",
   "execution_count": 4,
   "metadata": {},
   "outputs": [
    {
     "data": {
      "text/plain": [
       "[1, 2, 3, 36]"
      ]
     },
     "execution_count": 4,
     "metadata": {},
     "output_type": "execute_result"
    }
   ],
   "source": [
    "def solution(arr, divisor):\n",
    "    answer = [x for x in arr if x%divisor==0]\n",
    "    answer.sort()\n",
    "    if(len(answer)>0):\n",
    "        return answer\n",
    "    else:\n",
    "        return [-1]\n",
    "solution([2, 36, 1, 3],1)\n"
   ]
  }
 ],
 "metadata": {
  "kernelspec": {
   "display_name": "Python 3.9.12 ('base')",
   "language": "python",
   "name": "python3"
  },
  "language_info": {
   "codemirror_mode": {
    "name": "ipython",
    "version": 3
   },
   "file_extension": ".py",
   "mimetype": "text/x-python",
   "name": "python",
   "nbconvert_exporter": "python",
   "pygments_lexer": "ipython3",
   "version": "3.9.12"
  },
  "orig_nbformat": 4,
  "vscode": {
   "interpreter": {
    "hash": "0315a581e2c4f19e67eb1d991ec2370f080c1c9f3361ed831101b80f3cef2f30"
   }
  }
 },
 "nbformat": 4,
 "nbformat_minor": 2
}
