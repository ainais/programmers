{
 "cells": [
  {
   "cell_type": "markdown",
   "metadata": {},
   "source": [
    "게임개발자인 \"죠르디\"는 크레인 인형뽑기 기계를 모바일 게임으로 만들려고 합니다.<br>\n",
    "\"죠르디\"는 게임의 재미를 높이기 위해 화면 구성과 규칙을 다음과 같이 게임 로직에 반영하려고 합니다.<br>\n",
    "게임 화면은 \"1 x 1\" 크기의 칸들로 이루어진 \"N x N\" 크기의 정사각 격자이며 위쪽에는 크레인이 있고 오른쪽에는 바구니가 있습니다.<br>\n",
    "각 격자 칸에는 다양한 인형이 들어 있으며 인형이 없는 칸은 빈칸입니다.<br>\n",
    "모든 인형은 \"1 x 1\" 크기의 격자 한 칸을 차지하며 격자의 가장 아래 칸부터 차곡차곡 쌓여 있습니다.<br>\n",
    "게임 사용자는 크레인을 좌우로 움직여서 멈춘 위치에서 가장 위에 있는 인형을 집어 올릴 수 있습니다.<br>\n",
    "집어 올린 인형은 바구니에 쌓이게 되는 데, 이때 바구니의 가장 아래 칸부터 인형이 순서대로 쌓이게 됩니다.<br>\n",
    "다음 그림은 [1번, 5번, 3번] 위치에서 순서대로 인형을 집어 올려 바구니에 담은 모습입니다.<br>\n",
    "만약 같은 모양의 인형 두 개가 바구니에 연속해서 쌓이게 되면 두 인형은 터뜨려지면서 바구니에서 사라지게 됩니다.<br>\n",
    "위 상태에서 이어서 [5번] 위치에서 인형을 집어 바구니에 쌓으면 같은 모양 인형 두 개가 없어집니다.<br>\n",
    "크레인 작동 시 인형이 집어지지 않는 경우는 없으나 만약 인형이 없는 곳에서 크레인을 작동시키는 경우에는 아무런 일도 일어나지 않습니다.<br>\n",
    "또한 바구니는 모든 인형이 들어갈 수 있을 만큼 충분히 크다고 가정합니다. (그림에서는 화면표시 제약으로 5칸만으로 표현하였음)<br>\n",
    "<br>\n",
    "게임 화면의 격자의 상태가 담긴 2차원 배열 board와 인형을 집기 위해 크레인을 작동시킨 위치가 담긴 배열 moves가 매개변수로 주어질 때, 크레인을 모두 작동시킨 후 터트려져 사라진 인형의 개수를 return 하도록 solution 함수를 완성해주세요."
   ]
  },
  {
   "cell_type": "code",
   "execution_count": 27,
   "metadata": {},
   "outputs": [
    {
     "data": {
      "text/plain": [
       "4"
      ]
     },
     "execution_count": 27,
     "metadata": {},
     "output_type": "execute_result"
    }
   ],
   "source": [
    "def solution(board, moves):\n",
    "    answer = 0\n",
    "    basket = []\n",
    "    for i in moves:\n",
    "        n = i-1    \n",
    "        for j in range(0,len(board)):\n",
    "            if(board[j][n]==0): continue\n",
    "            else:\n",
    "                if(len(basket)==0):\n",
    "                    basket.append(board[j][n])\n",
    "                    board[j][n] = 0\n",
    "                    break\n",
    "                else:\n",
    "                    basket_temp=basket.pop()\n",
    "                    if(basket_temp==board[j][n]):\n",
    "                        board[j][n] = 0\n",
    "                        answer+=1\n",
    "                        break\n",
    "                    elif(basket_temp!=board[j][n]):\n",
    "                        basket.append(basket_temp)\n",
    "                        basket.append(board[j][n])\n",
    "                        board[j][n] = 0\n",
    "                        break\n",
    "    return answer*2\n",
    "\n",
    "solution([[0,0,0,0,0],[0,0,1,0,3],[0,2,5,0,1],[4,2,4,4,2],[3,5,1,3,1]], [1,5,3,5,1,2,1,4]) "
   ]
  }
 ],
 "metadata": {
  "kernelspec": {
   "display_name": "Python 3.9.12 ('base')",
   "language": "python",
   "name": "python3"
  },
  "language_info": {
   "codemirror_mode": {
    "name": "ipython",
    "version": 3
   },
   "file_extension": ".py",
   "mimetype": "text/x-python",
   "name": "python",
   "nbconvert_exporter": "python",
   "pygments_lexer": "ipython3",
   "version": "3.9.12"
  },
  "orig_nbformat": 4,
  "vscode": {
   "interpreter": {
    "hash": "0315a581e2c4f19e67eb1d991ec2370f080c1c9f3361ed831101b80f3cef2f30"
   }
  }
 },
 "nbformat": 4,
 "nbformat_minor": 2
}
