{
 "cells": [
  {
   "cell_type": "markdown",
   "metadata": {},
   "source": [
    "슈퍼 게임 개발자 오렐리는 큰 고민에 빠졌다.<br>\n",
    "그녀가 만든 프랜즈 오천성이 대성공을 거뒀지만, 요즘 신규 사용자의 수가 급감한 것이다.<br>\n",
    "원인은 신규 사용자와 기존 사용자 사이에 스테이지 차이가 너무 큰 것이 문제였다.<br>\n",
    "<br>\n",
    "이 문제를 어떻게 할까 고민 한 그녀는 동적으로 게임 시간을 늘려서 난이도를 조절하기로 했다.<br>\n",
    "역시 슈퍼 개발자라 대부분의 로직은 쉽게 구현했지만, 실패율을 구하는 부분에서 위기에 빠지고 말았다.<br>\n",
    "오렐리를 위해 실패율을 구하는 코드를 완성하라.<br>\n",
    "<br>\n",
    "실패율은 다음과 같이 정의한다.<br>\n",
    "스테이지에 도달했으나 아직 클리어하지 못한 플레이어의 수 / 스테이지에 도달한 플레이어 수<br>\n",
    "전체 스테이지의 개수 N, 게임을 이용하는 사용자가 현재 멈춰있는 스테이지의 번호가 담긴 배열 stages가 매개변수로 주어질 때,<br>\n",
    "실패율이 높은 스테이지부터 내림차순으로 스테이지의 번호가 담겨있는 배열을 return 하도록 solution 함수를 완성하라."
   ]
  },
  {
   "cell_type": "code",
   "execution_count": 92,
   "metadata": {},
   "outputs": [
    {
     "data": {
      "text/plain": [
       "[1, 2]"
      ]
     },
     "execution_count": 92,
     "metadata": {},
     "output_type": "execute_result"
    }
   ],
   "source": [
    "def solution(N, stages):\n",
    "    answer = []\n",
    "    current_member=len(stages)\n",
    "    for i in range(1,N+1):\n",
    "        if(current_member!=0):\n",
    "            temp = stages.count(i)\n",
    "            answer.append((i,round(temp/current_member,20)))\n",
    "            current_member-=temp\n",
    "        else:\n",
    "            answer.append((i,0))\n",
    "    answer.sort(key=lambda x:x[1], reverse=True)\n",
    "    return [x[0] for x in answer]\n",
    "solution(500,[1]*200000)"
   ]
  }
 ],
 "metadata": {
  "kernelspec": {
   "display_name": "Python 3.9.12 ('base')",
   "language": "python",
   "name": "python3"
  },
  "language_info": {
   "codemirror_mode": {
    "name": "ipython",
    "version": 3
   },
   "file_extension": ".py",
   "mimetype": "text/x-python",
   "name": "python",
   "nbconvert_exporter": "python",
   "pygments_lexer": "ipython3",
   "version": "3.9.12"
  },
  "orig_nbformat": 4,
  "vscode": {
   "interpreter": {
    "hash": "0315a581e2c4f19e67eb1d991ec2370f080c1c9f3361ed831101b80f3cef2f30"
   }
  }
 },
 "nbformat": 4,
 "nbformat_minor": 2
}
