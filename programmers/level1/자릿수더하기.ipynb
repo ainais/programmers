{
 "cells": [
  {
   "cell_type": "markdown",
   "metadata": {},
   "source": [
    "자연수 N이 주어지면, N의 각 자릿수의 합을 구해서 return 하는 solution 함수를 만들어 주세요.<br>\n",
    "예를들어 N = 123이면 1 + 2 + 3 = 6을 return 하면 됩니다."
   ]
  },
  {
   "cell_type": "code",
   "execution_count": 7,
   "metadata": {},
   "outputs": [
    {
     "data": {
      "text/plain": [
       "6"
      ]
     },
     "execution_count": 7,
     "metadata": {},
     "output_type": "execute_result"
    }
   ],
   "source": [
    "def solution(n):\n",
    "    answer = 0\n",
    "       \n",
    "    for i in (str)(n):\n",
    "        answer += (int)(i)\n",
    "\n",
    "    return answer\n",
    "\n",
    "solution(123)"
   ]
  }
 ],
 "metadata": {
  "kernelspec": {
   "display_name": "Python 3.9.12 ('base')",
   "language": "python",
   "name": "python3"
  },
  "language_info": {
   "codemirror_mode": {
    "name": "ipython",
    "version": 3
   },
   "file_extension": ".py",
   "mimetype": "text/x-python",
   "name": "python",
   "nbconvert_exporter": "python",
   "pygments_lexer": "ipython3",
   "version": "3.9.12"
  },
  "orig_nbformat": 4,
  "vscode": {
   "interpreter": {
    "hash": "0315a581e2c4f19e67eb1d991ec2370f080c1c9f3361ed831101b80f3cef2f30"
   }
  }
 },
 "nbformat": 4,
 "nbformat_minor": 2
}
