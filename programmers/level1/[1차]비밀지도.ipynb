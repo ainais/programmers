{
 "cells": [
  {
   "cell_type": "markdown",
   "metadata": {},
   "source": [
    "네오는 평소 프로도가 비상금을 숨겨놓는 장소를 알려줄 비밀지도를 손에 넣었다.<br>\n",
    "그런데 이 비밀지도는 숫자로 암호화되어 있어 위치를 확인하기 위해서는 암호를 해독해야 한다.<br>\n",
    "다행히 지도 암호를 해독할 방법을 적어놓은 메모도 함께 발견했다.<br>\n",
    "1.지도는 한 변의 길이가 n인 정사각형 배열 형태로, 각 칸은 \"공백\"(\" \") 또는 \"벽\"(\"#\") 두 종류로 이루어져 있다.<br>\n",
    "2.전체 지도는 두 장의 지도를 겹쳐서 얻을 수 있다. 각각 \"지도 1\"과 \"지도 2\"라고 하자. 지도 1 또는 지도 2 중 어느 하나라도 벽인 부분은 전체 지도에서도 벽이다.<br>\n",
    "지도 1과 지도 2에서 모두 공백인 부분은 전체 지도에서도 공백이다.<br>\n",
    "3.\"지도 1\"과 \"지도 2\"는 각각 정수 배열로 암호화되어 있다.<br>\n",
    "4.암호화된 배열은 지도의 각 가로줄에서 벽 부분을 1, 공백 부분을 0으로 부호화했을 때 얻어지는 이진수에 해당하는 값의 배열이다.<br>"
   ]
  },
  {
   "cell_type": "code",
   "execution_count": 17,
   "metadata": {},
   "outputs": [
    {
     "name": "stdout",
     "output_type": "stream",
     "text": [
      "['01001', '10100', '11100', '10010', '01011'] ['11110', '00001', '10101', '10001', '11100']\n"
     ]
    },
    {
     "data": {
      "text/plain": [
       "['#####', '# # #', '### #', '#  ##', '#####']"
      ]
     },
     "execution_count": 17,
     "metadata": {},
     "output_type": "execute_result"
    }
   ],
   "source": [
    "def bin_conversion(n,u):\n",
    "    bin_num = ''\n",
    "    while(n>0):\n",
    "        n,mod = divmod(n,2)\n",
    "        bin_num += str(mod)\n",
    "    bin_num = bin_num[::-1]\n",
    "    if(u>len(bin_num)):\n",
    "        temp=''\n",
    "        for i in range(0,u-len(bin_num)):\n",
    "            temp += '0'\n",
    "        temp+=bin_num\n",
    "        bin_num=temp\n",
    "    return bin_num\n",
    "\n",
    "def solution(n, arr1, arr2):\n",
    "    answer = []\n",
    "    bin_arr1=[]\n",
    "    bin_arr2=[]\n",
    "    \n",
    "    for i in range(0,len(arr1)):\n",
    "        bin_arr1.append(bin_conversion(arr1[i],n))\n",
    "        bin_arr2.append(bin_conversion(arr2[i],n))\n",
    "    \n",
    "    print(bin_arr1,bin_arr2)    \n",
    "    for i in range(0,len(bin_arr1)):\n",
    "        temp=''\n",
    "        for j in range(0,n):\n",
    "            if(bin_arr1[i][j]=='1' or bin_arr2[i][j]=='1'):\n",
    "                temp+='#' \n",
    "            else:\n",
    "                temp+=' '\n",
    "        answer.append(temp)\n",
    "    return answer\n",
    "\n",
    "solution(5,[9, 20, 28, 18, 11],[30, 1, 21, 17, 28])"
   ]
  }
 ],
 "metadata": {
  "kernelspec": {
   "display_name": "Python 3.9.12 ('base')",
   "language": "python",
   "name": "python3"
  },
  "language_info": {
   "codemirror_mode": {
    "name": "ipython",
    "version": 3
   },
   "file_extension": ".py",
   "mimetype": "text/x-python",
   "name": "python",
   "nbconvert_exporter": "python",
   "pygments_lexer": "ipython3",
   "version": "3.9.12"
  },
  "orig_nbformat": 4,
  "vscode": {
   "interpreter": {
    "hash": "0315a581e2c4f19e67eb1d991ec2370f080c1c9f3361ed831101b80f3cef2f30"
   }
  }
 },
 "nbformat": 4,
 "nbformat_minor": 2
}
