{
 "cells": [
  {
   "cell_type": "markdown",
   "metadata": {},
   "source": [
    "어떤 문장의 각 알파벳을 일정한 거리만큼 밀어서 다른 알파벳으로 바꾸는 암호화 방식을 시저 암호라고 합니다.<br>\n",
    "예를 들어 \"AB\"는 1만큼 밀면 \"BC\"가 되고, 3만큼 밀면 \"DE\"가 됩니다.<br>\n",
    "\"z\"는 1만큼 밀면 \"a\"가 됩니다.<br>\n",
    "문자열 s와 거리 n을 입력받아 s를 n만큼 민 암호문을 만드는 함수, solution을 완성해 보세요."
   ]
  },
  {
   "cell_type": "code",
   "execution_count": 19,
   "metadata": {},
   "outputs": [
    {
     "data": {
      "text/plain": [
       "'A'"
      ]
     },
     "execution_count": 19,
     "metadata": {},
     "output_type": "execute_result"
    }
   ],
   "source": [
    "def solution(s, n):\n",
    "    answer = ''\n",
    "    \n",
    "    for i in s:\n",
    "        chr_num = ord(i)\n",
    "        if(chr_num==32):\n",
    "            answer+=' '\n",
    "        # 대문자 일 경우 A~Z, 65~90\n",
    "            \n",
    "        if(chr_num>=65 and chr_num<=90):\n",
    "            if(chr_num+n>90):\n",
    "                answer+=chr(65+(chr_num+n-91))\n",
    "            else:\n",
    "                answer+=chr(chr_num+n)\n",
    "            \n",
    "        # 소문자 일 경우 a~z, 97~122\n",
    "        if(chr_num>=97 and chr_num<=122):\n",
    "            if(chr_num+n>122):\n",
    "                answer+=chr(97+(chr_num+n-123))\n",
    "            else:\n",
    "                answer+=chr(chr_num+n)\n",
    "            \n",
    "    return answer\n",
    "\n",
    "solution(\"Z\",1)"
   ]
  }
 ],
 "metadata": {
  "kernelspec": {
   "display_name": "Python 3.9.12 ('base')",
   "language": "python",
   "name": "python3"
  },
  "language_info": {
   "codemirror_mode": {
    "name": "ipython",
    "version": 3
   },
   "file_extension": ".py",
   "mimetype": "text/x-python",
   "name": "python",
   "nbconvert_exporter": "python",
   "pygments_lexer": "ipython3",
   "version": "3.9.12"
  },
  "orig_nbformat": 4,
  "vscode": {
   "interpreter": {
    "hash": "0315a581e2c4f19e67eb1d991ec2370f080c1c9f3361ed831101b80f3cef2f30"
   }
  }
 },
 "nbformat": 4,
 "nbformat_minor": 2
}
