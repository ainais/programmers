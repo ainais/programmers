{
 "cells": [
  {
   "cell_type": "markdown",
   "metadata": {},
   "source": [
    "카카오톡 게임별의 하반기 신규 서비스로 다트 게임을 출시하기로 했다.<br>\n",
    "다트 게임은 다트판에 다트를 세 차례 던져 그 점수의 합계로 실력을 겨루는 게임으로, 모두가 간단히 즐길 수 있다.<br>\n",
    "갓 입사한 무지는 코딩 실력을 인정받아 게임의 핵심 부분인 점수 계산 로직을 맡게 되었다. 다트 게임의 점수 계산 로직은 아래와 같다.<br>\n",
    "<br>\n",
    "다트 게임은 총 3번의 기회로 구성된다.<br>\n",
    "각 기회마다 얻을 수 있는 점수는 0점에서 10점까지이다.<br>\n",
    "점수와 함께 Single(S), Double(D), Triple(T) 영역이 존재하고 각 영역 당첨 시 점수에서 1제곱, 2제곱, 3제곱 (점수1 , 점수2 , 점수3 )으로 계산된다.<br>\n",
    "옵션으로 스타상(*) , 아차상(#)이 존재하며 스타상(*) 당첨 시 해당 점수와 바로 전에 얻은 점수를 각 2배로 만든다. 아차상(#) 당첨 시 해당 점수는 마이너스된다.<br>\n",
    "스타상(*)은 첫 번째 기회에서도 나올 수 있다. 이 경우 첫 번째 스타상(*)의 점수만 2배가 된다. (예제 4번 참고)<br>\n",
    "스타상(*)의 효과는 다른 스타상(*)의 효과와 중첩될 수 있다. 이 경우 중첩된 스타상(*) 점수는 4배가 된다. (예제 4번 참고)<br>\n",
    "스타상(*)의 효과는 아차상(#)의 효과와 중첩될 수 있다. 이 경우 중첩된 아차상(#)의 점수는 -2배가 된다. (예제 5번 참고)<br>\n",
    "Single(S), Double(D), Triple(T)은 점수마다 하나씩 존재한다.<br>\n",
    "스타상(*), 아차상(#)은 점수마다 둘 중 하나만 존재할 수 있으며, 존재하지 않을 수도 있다.<br>\n",
    "0~10의 정수와 문자 S, D, T, *, #로 구성된 문자열이 입력될 시 총점수를 반환하는 함수를 작성하라.<br>"
   ]
  },
  {
   "cell_type": "code",
   "execution_count": 126,
   "metadata": {},
   "outputs": [
    {
     "name": "stdout",
     "output_type": "stream",
     "text": [
      "['1', 'S', '*']\n",
      "['2', 'T', '*']\n",
      "['3', 'S', '']\n",
      "4 16 3 23\n"
     ]
    },
    {
     "data": {
      "text/plain": [
       "0"
      ]
     },
     "execution_count": 126,
     "metadata": {},
     "output_type": "execute_result"
    }
   ],
   "source": [
    "import re\n",
    "def solution(dartResult):\n",
    "    dart_list=re.findall(\"[0-9]{1,2}[SDT]{1}[*|#]?\",dartResult)\n",
    "    \n",
    "    \n",
    "    for i in range(0,len(dart_list)):\n",
    "        temp_list=re.split('([A-Z])',dart_list[i])\n",
    "        \n",
    "        string_score=0\n",
    "        special_score=0\n",
    "        if(temp_list[1]=='S'): string_score=1\n",
    "        elif(temp_list[1]=='D'): string_score=2\n",
    "        elif(temp_list[1]=='T'): string_score=3\n",
    "        \n",
    "        if(temp_list[2]=='*'): special_score=2\n",
    "        elif(temp_list[2]=='#'): special_score=-1\n",
    "        elif(temp_list[2]==''): special_score=1\n",
    "        \n",
    "        if(i==0):\n",
    "            score1= (int(temp_list[0]) ** string_score) * special_score\n",
    "        elif(i==1):\n",
    "            if(special_score==2):\n",
    "                score1=score1*special_score\n",
    "            score2=(int(temp_list[0]) ** string_score) * special_score\n",
    "        elif(i==2):\n",
    "            if(special_score==2):\n",
    "                score2=score2*special_score\n",
    "            score3=(int(temp_list[0]) ** string_score) * special_score\n",
    "            \n",
    "    \n",
    "    return score1+score2+score3\n",
    "solution('1S*2T*3S')"
   ]
  }
 ],
 "metadata": {
  "kernelspec": {
   "display_name": "Python 3.9.12 ('base')",
   "language": "python",
   "name": "python3"
  },
  "language_info": {
   "codemirror_mode": {
    "name": "ipython",
    "version": 3
   },
   "file_extension": ".py",
   "mimetype": "text/x-python",
   "name": "python",
   "nbconvert_exporter": "python",
   "pygments_lexer": "ipython3",
   "version": "3.9.12"
  },
  "orig_nbformat": 4,
  "vscode": {
   "interpreter": {
    "hash": "0315a581e2c4f19e67eb1d991ec2370f080c1c9f3361ed831101b80f3cef2f30"
   }
  }
 },
 "nbformat": 4,
 "nbformat_minor": 2
}
