{
 "cells": [
  {
   "cell_type": "markdown",
   "metadata": {},
   "source": [
    "수포자는 수학을 포기한 사람의 준말입니다.<br>\n",
    "수포자 삼인방은 모의고사에 수학 문제를 전부 찍으려 합니다.<br>\n",
    "수포자는 1번 문제부터 마지막 문제까지 다음과 같이 찍습니다.<br>\n",
    "<br>\n",
    "1번 수포자가 찍는 방식: 1, 2, 3, 4, 5, 1, 2, 3, 4, 5, ...<br>\n",
    "2번 수포자가 찍는 방식: 2, 1, 2, 3, 2, 4, 2, 5, 2, 1, 2, 3, 2, 4, 2, 5, ...<br>\n",
    "3번 수포자가 찍는 방식: 3, 3, 1, 1, 2, 2, 4, 4, 5, 5, 3, 3, 1, 1, 2, 2, 4, 4, 5, 5, ...<br>\n",
    "<br>\n",
    "1번 문제부터 마지막 문제까지의 정답이 순서대로 들은 배열 answers가 주어졌을 때, 가장 많은 문제를 맞힌 사람이 누구인지 배열에 담아 return 하도록 solution 함수를 작성해주세요."
   ]
  },
  {
   "cell_type": "code",
   "execution_count": 10,
   "metadata": {},
   "outputs": [
    {
     "data": {
      "text/plain": [
       "[1, 2, 3]"
      ]
     },
     "execution_count": 10,
     "metadata": {},
     "output_type": "execute_result"
    }
   ],
   "source": [
    "def solution(answers):\n",
    "    hu1=[1,2,3,4,5]\n",
    "    hu2=[2,1,2,3,2,4,2,5]\n",
    "    hu3=[3,3,1,1,2,2,4,4,5,5]\n",
    "    \n",
    "    hu1_cnt=[1 for x in range(0,len(answers)) if(answers[x]==hu1[x%len(hu1)])]    \n",
    "    hu2_cnt=[1 for x in range(0,len(answers)) if(answers[x]==hu2[x%len(hu2)])]\n",
    "    hu3_cnt=[1 for x in range(0,len(answers)) if(answers[x]==hu3[x%len(hu3)])]\n",
    "    \n",
    "    max_value=max([len(hu1_cnt),len(hu2_cnt),len(hu3_cnt)])\n",
    "    answer=[]\n",
    "    if(max_value==len(hu1_cnt)):\n",
    "        answer.append(1)\n",
    "    if(max_value==len(hu2_cnt)):\n",
    "        answer.append(2)\n",
    "    if(max_value==len(hu3_cnt)):\n",
    "        answer.append(3)\n",
    "\n",
    "    return answer\n",
    "\n",
    "solution([1,3,2,4,2])"
   ]
  }
 ],
 "metadata": {
  "kernelspec": {
   "display_name": "Python 3.9.12 ('base')",
   "language": "python",
   "name": "python3"
  },
  "language_info": {
   "codemirror_mode": {
    "name": "ipython",
    "version": 3
   },
   "file_extension": ".py",
   "mimetype": "text/x-python",
   "name": "python",
   "nbconvert_exporter": "python",
   "pygments_lexer": "ipython3",
   "version": "3.9.12"
  },
  "orig_nbformat": 4,
  "vscode": {
   "interpreter": {
    "hash": "0315a581e2c4f19e67eb1d991ec2370f080c1c9f3361ed831101b80f3cef2f30"
   }
  }
 },
 "nbformat": 4,
 "nbformat_minor": 2
}
