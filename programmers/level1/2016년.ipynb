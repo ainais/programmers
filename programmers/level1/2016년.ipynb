{
 "cells": [
  {
   "cell_type": "markdown",
   "metadata": {},
   "source": [
    "2016년 1월 1일은 금요일입니다.<br>\n",
    "2016년 a월 b일은 무슨 요일일까요?<br>\n",
    "두 수 a ,b를 입력받아 2016년 a월 b일이 무슨 요일인지 리턴하는 함수, solution을 완성하세요.<br>\n",
    "요일의 이름은 일요일부터 토요일까지 각각 SUN,MON,TUE,WED,THU,FRI,SAT입니다.<br><br>\n",
    "예를 들어 a=5, b=24라면 5월 24일은 화요일이므로 문자열 \"TUE\"를 반환하세요."
   ]
  },
  {
   "cell_type": "code",
   "execution_count": 12,
   "metadata": {},
   "outputs": [
    {
     "data": {
      "text/plain": [
       "'TUE'"
      ]
     },
     "execution_count": 12,
     "metadata": {},
     "output_type": "execute_result"
    }
   ],
   "source": [
    "import datetime\n",
    "def solution(a, b):\n",
    "    answer = ''\n",
    "    std_day = datetime.datetime(2016,1,1)\n",
    "    day = datetime.datetime(2016,a,b)\n",
    "    \n",
    "    delta_day=((day-std_day).days)%7\n",
    "    if(delta_day==0): return 'FRI'\n",
    "    elif(delta_day==1): return 'SAT'\n",
    "    elif(delta_day==2): return 'SUN'\n",
    "    elif(delta_day==3): return 'MON'\n",
    "    elif(delta_day==4): return 'TUE'\n",
    "    elif(delta_day==5): return 'WED'\n",
    "    elif(delta_day==6): return 'THU'\n",
    "    \n",
    "\n",
    "solution(5,24)"
   ]
  }
 ],
 "metadata": {
  "kernelspec": {
   "display_name": "Python 3.9.12 ('base')",
   "language": "python",
   "name": "python3"
  },
  "language_info": {
   "codemirror_mode": {
    "name": "ipython",
    "version": 3
   },
   "file_extension": ".py",
   "mimetype": "text/x-python",
   "name": "python",
   "nbconvert_exporter": "python",
   "pygments_lexer": "ipython3",
   "version": "3.9.12"
  },
  "orig_nbformat": 4,
  "vscode": {
   "interpreter": {
    "hash": "0315a581e2c4f19e67eb1d991ec2370f080c1c9f3361ed831101b80f3cef2f30"
   }
  }
 },
 "nbformat": 4,
 "nbformat_minor": 2
}
