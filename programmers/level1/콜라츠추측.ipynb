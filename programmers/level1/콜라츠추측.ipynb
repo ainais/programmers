{
 "cells": [
  {
   "cell_type": "markdown",
   "metadata": {},
   "source": [
    "1937년 Collatz란 사람에 의해 제기된 이 추측은,<br>\n",
    "주어진 수가 1이 될 때까지 다음 작업을 반복하면,<br>\n",
    "모든 수를 1로 만들 수 있다는 추측입니다.<br>\n",
    "작업은 다음과 같습니다.<br>\n",
    "<br>\n",
    "1-1. 입력된 수가 짝수라면 2로 나눕니다. <br>\n",
    "1-2. 입력된 수가 홀수라면 3을 곱하고 1을 더합니다. <br>\n",
    "2. 결과로 나온 수에 같은 작업을 1이 될 때까지 반복합니다. <br>\n",
    "예를 들어, 주어진 수가 6이라면 6 → 3 → 10 → 5 → 16 → 8 → 4 → 2 → 1 이 되어 총 8번 만에 1이 됩니다.<br>\n",
    "위 작업을 몇 번이나 반복해야 하는지 반환하는 함수, solution을 완성해 주세요.<br>\n",
    "단, 주어진 수가 1인 경우에는 0을, 작업을 500번 반복할 때까지 1이 되지 않는다면 –1을 반환해 주세요.<br>"
   ]
  },
  {
   "cell_type": "code",
   "execution_count": 1,
   "metadata": {},
   "outputs": [
    {
     "data": {
      "text/plain": [
       "8"
      ]
     },
     "execution_count": 1,
     "metadata": {},
     "output_type": "execute_result"
    }
   ],
   "source": [
    "def solution(num):\n",
    "    answer = 0\n",
    "    n_count=1\n",
    "    if num==1: return 0\n",
    "    while(n_count<500):\n",
    "        if(num%2==0):\n",
    "            num = num/2\n",
    "        else:\n",
    "            num = num*3+1\n",
    "            \n",
    "        if(num==1):\n",
    "            return n_count\n",
    "        n_count += 1\n",
    "        \n",
    "    return -1\n",
    "\n",
    "solution(6)"
   ]
  }
 ],
 "metadata": {
  "kernelspec": {
   "display_name": "Python 3.9.12 ('base')",
   "language": "python",
   "name": "python3"
  },
  "language_info": {
   "codemirror_mode": {
    "name": "ipython",
    "version": 3
   },
   "file_extension": ".py",
   "mimetype": "text/x-python",
   "name": "python",
   "nbconvert_exporter": "python",
   "pygments_lexer": "ipython3",
   "version": "3.9.12"
  },
  "orig_nbformat": 4,
  "vscode": {
   "interpreter": {
    "hash": "0315a581e2c4f19e67eb1d991ec2370f080c1c9f3361ed831101b80f3cef2f30"
   }
  }
 },
 "nbformat": 4,
 "nbformat_minor": 2
}
