{
 "cells": [
  {
   "cell_type": "markdown",
   "metadata": {},
   "source": [
    "단어 s의 가운데 글자를 반환하는 함수, solution을 만들어 보세요.<br>\n",
    "단어의 길이가 짝수라면 가운데 두글자를 반환하면 됩니다."
   ]
  },
  {
   "cell_type": "code",
   "execution_count": 11,
   "metadata": {},
   "outputs": [
    {
     "data": {
      "text/plain": [
       "'cy'"
      ]
     },
     "execution_count": 11,
     "metadata": {},
     "output_type": "execute_result"
    }
   ],
   "source": [
    "def solution(s):\n",
    "    answer = ''\n",
    "    if(len(s)%2==0):\n",
    "        answer=s[(int)(len(s)/2)-1]+s[(int)(len(s)/2)]\n",
    "    else:\n",
    "        answer=s[(int)(len(s)/2)]\n",
    "    return answer\n",
    "solution(\"abcyde\")"
   ]
  }
 ],
 "metadata": {
  "kernelspec": {
   "display_name": "Python 3.9.12 ('base')",
   "language": "python",
   "name": "python3"
  },
  "language_info": {
   "codemirror_mode": {
    "name": "ipython",
    "version": 3
   },
   "file_extension": ".py",
   "mimetype": "text/x-python",
   "name": "python",
   "nbconvert_exporter": "python",
   "pygments_lexer": "ipython3",
   "version": "3.9.12"
  },
  "orig_nbformat": 4,
  "vscode": {
   "interpreter": {
    "hash": "0315a581e2c4f19e67eb1d991ec2370f080c1c9f3361ed831101b80f3cef2f30"
   }
  }
 },
 "nbformat": 4,
 "nbformat_minor": 2
}
