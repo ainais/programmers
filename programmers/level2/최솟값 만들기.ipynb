{
 "cells": [
  {
   "cell_type": "markdown",
   "metadata": {},
   "source": [
    "길이가 같은 배열 A, B 두개가 있습니다. 각 배열은 자연수로 이루어져 있습니다.<br>\n",
    "배열 A, B에서 각각 한 개의 숫자를 뽑아 두 수를 곱합니다. <br>\n",
    "이러한 과정을 배열의 길이만큼 반복하며, 두 수를 곱한 값을 누적하여 더합니다. <br>\n",
    "이때 최종적으로 누적된 값이 최소가 되도록 만드는 것이 목표입니다. <br>\n",
    "(단, 각 배열에서 k번째 숫자를 뽑았다면 다음에 k번째 숫자는 다시 뽑을 수 없습니다.)<br>\n",
    "<br>\n",
    "예를 들어 A = [1, 4, 2] , B = [5, 4, 4] 라면<br>\n",
    "<br>\n",
    "A에서 첫번째 숫자인 1, B에서 첫번째 숫자인 5를 뽑아 곱하여 더합니다. (누적된 값 : 0 + 5(1x5) = 5)<br>\n",
    "A에서 두번째 숫자인 4, B에서 세번째 숫자인 4를 뽑아 곱하여 더합니다. (누적된 값 : 5 + 16(4x4) = 21)<br>\n",
    "A에서 세번째 숫자인 2, B에서 두번째 숫자인 4를 뽑아 곱하여 더합니다. (누적된 값 : 21 + 8(2x4) = 29)<br>\n",
    "즉, 이 경우가 최소가 되므로 29를 return 합니다.<br>\n",
    "<br>\n",
    "배열 A, B가 주어질 때 최종적으로 누적된 최솟값을 return 하는 solution 함수를 완성해 주세요.<br>"
   ]
  },
  {
   "cell_type": "code",
   "execution_count": 45,
   "metadata": {},
   "outputs": [
    {
     "name": "stdout",
     "output_type": "stream",
     "text": [
      "[[3 6]\n",
      " [4 8]]\n"
     ]
    }
   ],
   "source": [
    "import numpy as np\n",
    "\n",
    "A=[1,2]\n",
    "B=[3,4]\n",
    "B=np.array(B).reshape(len(A),1)\n",
    "\n",
    "print(A*B)\n"
   ]
  },
  {
   "cell_type": "code",
   "execution_count": 4,
   "metadata": {},
   "outputs": [
    {
     "ename": "TypeError",
     "evalue": "Cannot interpret '3' as a data type",
     "output_type": "error",
     "traceback": [
      "\u001b[1;31m---------------------------------------------------------------------------\u001b[0m",
      "\u001b[1;31mTypeError\u001b[0m                                 Traceback (most recent call last)",
      "\u001b[1;32mc:\\Users\\kakaopaysec\\Desktop\\coding\\programmers\\level2\\최솟값 만들기.ipynb 셀 2\u001b[0m in \u001b[0;36m<cell line: 14>\u001b[1;34m()\u001b[0m\n\u001b[0;32m     <a href='vscode-notebook-cell:/c%3A/Users/kakaopaysec/Desktop/coding/programmers/level2/%EC%B5%9C%EC%86%9F%EA%B0%92%20%EB%A7%8C%EB%93%A4%EA%B8%B0.ipynb#W0sZmlsZQ%3D%3D?line=10'>11</a>\u001b[0m A\u001b[39m=\u001b[39m[\u001b[39m1\u001b[39m,\u001b[39m4\u001b[39m,\u001b[39m2\u001b[39m]\n\u001b[0;32m     <a href='vscode-notebook-cell:/c%3A/Users/kakaopaysec/Desktop/coding/programmers/level2/%EC%B5%9C%EC%86%9F%EA%B0%92%20%EB%A7%8C%EB%93%A4%EA%B8%B0.ipynb#W0sZmlsZQ%3D%3D?line=11'>12</a>\u001b[0m B\u001b[39m=\u001b[39m[\u001b[39m5\u001b[39m,\u001b[39m4\u001b[39m,\u001b[39m4\u001b[39m]\n\u001b[1;32m---> <a href='vscode-notebook-cell:/c%3A/Users/kakaopaysec/Desktop/coding/programmers/level2/%EC%B5%9C%EC%86%9F%EA%B0%92%20%EB%A7%8C%EB%93%A4%EA%B8%B0.ipynb#W0sZmlsZQ%3D%3D?line=13'>14</a>\u001b[0m solution(A,B)\n",
      "\u001b[1;32mc:\\Users\\kakaopaysec\\Desktop\\coding\\programmers\\level2\\최솟값 만들기.ipynb 셀 2\u001b[0m in \u001b[0;36msolution\u001b[1;34m(A, B)\u001b[0m\n\u001b[0;32m      <a href='vscode-notebook-cell:/c%3A/Users/kakaopaysec/Desktop/coding/programmers/level2/%EC%B5%9C%EC%86%9F%EA%B0%92%20%EB%A7%8C%EB%93%A4%EA%B8%B0.ipynb#W0sZmlsZQ%3D%3D?line=2'>3</a>\u001b[0m \u001b[39mdef\u001b[39;00m \u001b[39msolution\u001b[39m(A,B):\n\u001b[0;32m      <a href='vscode-notebook-cell:/c%3A/Users/kakaopaysec/Desktop/coding/programmers/level2/%EC%B5%9C%EC%86%9F%EA%B0%92%20%EB%A7%8C%EB%93%A4%EA%B8%B0.ipynb#W0sZmlsZQ%3D%3D?line=3'>4</a>\u001b[0m     answer \u001b[39m=\u001b[39m \u001b[39m0\u001b[39m\n\u001b[1;32m----> <a href='vscode-notebook-cell:/c%3A/Users/kakaopaysec/Desktop/coding/programmers/level2/%EC%B5%9C%EC%86%9F%EA%B0%92%20%EB%A7%8C%EB%93%A4%EA%B8%B0.ipynb#W0sZmlsZQ%3D%3D?line=4'>5</a>\u001b[0m     s_list\u001b[39m=\u001b[39mnp\u001b[39m.\u001b[39;49mzeros(\u001b[39mlen\u001b[39;49m(A),\u001b[39mlen\u001b[39;49m(B))\n\u001b[0;32m      <a href='vscode-notebook-cell:/c%3A/Users/kakaopaysec/Desktop/coding/programmers/level2/%EC%B5%9C%EC%86%9F%EA%B0%92%20%EB%A7%8C%EB%93%A4%EA%B8%B0.ipynb#W0sZmlsZQ%3D%3D?line=5'>6</a>\u001b[0m     \u001b[39mprint\u001b[39m(s_list)\n",
      "\u001b[1;31mTypeError\u001b[0m: Cannot interpret '3' as a data type"
     ]
    }
   ],
   "source": [
    "\n",
    "\n",
    "def solution(A,B):\n",
    "    answer = 0\n",
    "    s_list=np.zeros(len(A),len(B))\n",
    "    print(s_list)\n",
    "    # for i in range(0,len(A)):\n",
    "        # answer+=A[i]*B[i]\n",
    "    # return answer\n",
    "\n",
    "A=[1,4,2]\n",
    "B=[5,4,4]\n",
    "\n",
    "solution(A,B)"
   ]
  }
 ],
 "metadata": {
  "kernelspec": {
   "display_name": "Python 3.9.12 ('base')",
   "language": "python",
   "name": "python3"
  },
  "language_info": {
   "codemirror_mode": {
    "name": "ipython",
    "version": 3
   },
   "file_extension": ".py",
   "mimetype": "text/x-python",
   "name": "python",
   "nbconvert_exporter": "python",
   "pygments_lexer": "ipython3",
   "version": "3.9.12"
  },
  "orig_nbformat": 4,
  "vscode": {
   "interpreter": {
    "hash": "0315a581e2c4f19e67eb1d991ec2370f080c1c9f3361ed831101b80f3cef2f30"
   }
  }
 },
 "nbformat": 4,
 "nbformat_minor": 2
}
